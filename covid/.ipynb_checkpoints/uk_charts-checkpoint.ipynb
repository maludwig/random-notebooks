{
 "cells": [
  {
   "cell_type": "markdown",
   "id": "78183e31",
   "metadata": {},
   "source": [
    "# UK COVID-19 Charts\n",
    "\n",
    "Infection and Death rate data here:\n",
    "https://www.worldometers.info/coronavirus/country/uk/\n",
    "\n",
    "Vaccination rate data here:\n",
    "https://coronavirus.data.gov.uk/details/vaccinations"
   ]
  },
  {
   "cell_type": "code",
   "execution_count": 2,
   "id": "7d4384b3",
   "metadata": {},
   "outputs": [],
   "source": [
    "\n",
    "%matplotlib inline\n",
    "import arrow\n",
    "import matplotlib.pyplot as plt\n",
    "import numpy as np\n",
    "import pandas as pd\n",
    "import matplotlib.ticker as mtick\n",
    "from itertools import cycle\n",
    "import matplotlib\n",
    "import csv\n",
    "from matplotlib.ticker import PercentFormatter\n",
    "import json\n",
    "\n",
    "# Set default plot size\n",
    "plt.rcParams['figure.figsize'] = [20, 20]\n",
    "plt.rcParams['font.size'] = 16\n"
   ]
  },
  {
   "cell_type": "code",
   "execution_count": null,
   "id": "812ba0ea",
   "metadata": {},
   "outputs": [],
   "source": [
    "def load_dataframes():\n",
    "    with open(\"./data/uk_vax_rate_2021-05-19.csv\") as vax_rate_file:\n",
    "        reader = csv"
   ]
  }
 ],
 "metadata": {
  "kernelspec": {
   "display_name": "Python 3",
   "language": "python",
   "name": "python3"
  },
  "language_info": {
   "codemirror_mode": {
    "name": "ipython",
    "version": 3
   },
   "file_extension": ".py",
   "mimetype": "text/x-python",
   "name": "python",
   "nbconvert_exporter": "python",
   "pygments_lexer": "ipython3",
   "version": "3.9.4"
  }
 },
 "nbformat": 4,
 "nbformat_minor": 5
}
